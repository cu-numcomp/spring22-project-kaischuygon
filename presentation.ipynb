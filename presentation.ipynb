{
 "cells": [
  {
   "cell_type": "markdown",
   "metadata": {},
   "source": [
    "# Individual Project: Numerics in Open Source Software\n",
    "## Kai Schuyler Gonzalez\n",
    "\n",
    "## Chosen software: `LowRankApprox`"
   ]
  },
  {
   "cell_type": "markdown",
   "metadata": {},
   "source": [
    "### Introduction\n",
    "---\n",
    "* `LowRankApprox` is a julia package providing fast low-rank approximation algorithms for matrices. Information, installation and examples on [GitHub](https://github.com/JuliaMatrices/LowRankApprox.jl).\n",
    "* low-rank approximation is a minimization problem, in which the cost function measures the fit between a given matrix (the data) and an approximating matrix (the optimization variable), subject to a constraint that the approximating matrix has reduced rank. The problem is used for mathematical modeling and data compression"
   ]
  },
  {
   "cell_type": "markdown",
   "metadata": {},
   "source": [
    "### Goal\n",
    "---\n",
    "* This program was developed with performance in mind.\n",
    "* The implementation borrows heavily from [Finding Structure with Randomness: Probabilistic Algorithms for Constructing Approximate Matrix Decompositions](https://epubs.siam.org/doi/10.1137/090771806). \n",
    "* The implementation utilizes interpolative decomposition (ID) as the basic form of approximation instead of matrix range projection. The reason is that the latter requires expensive matrix-matrix multiplication to contract to the relevant subspace, while the former can sometimes be computed much faster, depending on the accelerated sketching strategy employed."
   ]
  },
  {
   "cell_type": "markdown",
   "metadata": {},
   "source": [
    "### Stakeholders\n",
    "---\n",
    "* This is an open-source Julia package with 8 contributors and 78 stars on GitHub. \n",
    "* The project is fully maintained on github and has a github pages documentation site. \n",
    "* It is still in active development, it was most recently updated 6 days ago and was started in 2019.\n",
    "* The stakeholders of this software can be anyone that uses Julia for mathematical modeling. "
   ]
  },
  {
   "cell_type": "markdown",
   "metadata": {},
   "source": [
    "### Metrics and Features\n",
    "---\n",
    "#### Metrics\n",
    "* This package has been developed with performance in mind, and early tests have shown large speedups over similar codes written in MATLAB and Python (and even some in Fortran and C). \n",
    "* For example, computing an ID of a Hilbert matrix of order 1024 to relative precision ~1e-15 takes:\n",
    "  * ~0.02 s using `LowRankApprox` in Julia\n",
    "  * ~0.07 s using SciPy in Python (calling a Fortran backend; see PyMatrixID)\n",
    "  * ~0.3 s in MATLAB\n",
    "* This difference can be attributed in part to both algorithmic improvements as well as to some low-level optimizations.\n",
    "* The computational complexity for each algorithm in included in the github README.\n",
    "\n",
    "#### Features\n",
    "* The program's currently implemented algorithms include: \n",
    "  * sketch methods:\n",
    "    * random Gaussian\n",
    "    * random subset\n",
    "    * subsampled random Fourier transform\n",
    "    * sparse random Gaussian\n",
    "  * partial range finder\n",
    "  * partial factorizations:\n",
    "    * QR decomposition\n",
    "    * interpolative decomposition\n",
    "    * singular value decomposition\n",
    "    * Hermitian eigendecomposition\n",
    "    * CUR decomposition\n",
    "  * spectral norm estimation\n"
   ]
  },
  {
   "cell_type": "markdown",
   "metadata": {},
   "source": [
    "### Example\n",
    "---"
   ]
  },
  {
   "cell_type": "code",
   "execution_count": 24,
   "metadata": {},
   "outputs": [],
   "source": [
    "using LowRankApprox\n",
    "n = 1024\n",
    "A = matrixlib(:hilb, n, n);"
   ]
  },
  {
   "cell_type": "markdown",
   "metadata": {},
   "source": [
    "A partial QR decomposition can be computed using"
   ]
  },
  {
   "cell_type": "code",
   "execution_count": 25,
   "metadata": {},
   "outputs": [],
   "source": [
    "F = pqrfact(A)\n",
    "Q, R, p = pqr(A);"
   ]
  },
  {
   "cell_type": "markdown",
   "metadata": {},
   "source": [
    "where `F` is the factorized form. `pqr` can be used to get `Q`, `R`, and `p` denoting the unitary, trapezoidal and permutation factors respectively. "
   ]
  },
  {
   "cell_type": "markdown",
   "metadata": {},
   "source": [
    "The factorized form is often more convenient as it also implements various arithmetic operations. For example, the commands:"
   ]
  },
  {
   "cell_type": "code",
   "execution_count": 26,
   "metadata": {},
   "outputs": [],
   "source": [
    "x = rand(n)\n",
    "y = F *x\n",
    "z = F'*x;"
   ]
  },
  {
   "cell_type": "markdown",
   "metadata": {},
   "source": [
    "automatically invoke specialized multiplication routines to rapidly compute `y` and `z` using the low-rank structure of `F`."
   ]
  },
  {
   "cell_type": "code",
   "execution_count": 31,
   "metadata": {},
   "outputs": [
    {
     "name": "stdout",
     "output_type": "stream",
     "text": [
      "first(x, 5) = [0.9364066657791289, 0.6580480048173842, 0.15933071622019068, 0.1659054943155447, 0.4318161450455843]\n",
      "first(y, 5) = [4.050654068769566, 3.3549516881101464, 3.0500431787106734, 2.860659057407691, 2.724493390540929]\n",
      "first(z, 5) = [4.050654068769562, 3.354951688110148, 3.050043178710674, 2.860659057407692, 2.7244933905409274]\n"
     ]
    }
   ],
   "source": [
    "@show first(x, 5)\n",
    "@show first(y, 5)\n",
    "@show first(z, 5);"
   ]
  },
  {
   "cell_type": "markdown",
   "metadata": {},
   "source": [
    "### Potentially interesting experiment\n",
    "---\n",
    "* Exploring the efficiency of this software compared to other matrix approximation methods we have discussed in class."
   ]
  }
 ],
 "metadata": {
  "kernelspec": {
   "display_name": "Julia 1.7.1",
   "language": "julia",
   "name": "julia-1.7"
  },
  "language_info": {
   "file_extension": ".jl",
   "mimetype": "application/julia",
   "name": "julia",
   "version": "1.7.1"
  },
  "orig_nbformat": 4
 },
 "nbformat": 4,
 "nbformat_minor": 2
}
